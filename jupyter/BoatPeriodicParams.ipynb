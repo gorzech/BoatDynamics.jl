{
 "cells": [
  {
   "cell_type": "code",
   "execution_count": null,
   "id": "recorded-limit",
   "metadata": {},
   "outputs": [],
   "source": [
    "#using Revise\n",
    "using BoatDynamics\n",
    "import BoatDynamics: BoatDynamics as bd\n",
    "\n",
    "using Plots"
   ]
  },
  {
   "cell_type": "code",
   "execution_count": null,
   "id": "virtual-yeast",
   "metadata": {},
   "outputs": [],
   "source": [
    "# Plot for two full periods\n",
    "t_end = 2 * bd.T_t\n",
    "t = LinRange(0.0, t_end, 1001)\n",
    "dt = t[2] - t[1]"
   ]
  },
  {
   "cell_type": "code",
   "execution_count": null,
   "id": "resident-major",
   "metadata": {
    "scrolled": false
   },
   "outputs": [],
   "source": [
    "# Plot eta\n",
    "η = bd.η.(t)\n",
    "plot(t, η, xlabel=\"Time [s]\", label=\"η\")"
   ]
  },
  {
   "cell_type": "code",
   "execution_count": null,
   "id": "eleven-collar",
   "metadata": {},
   "outputs": [],
   "source": [
    "# k1 and k2\n",
    "k12 = bd.kpars.(bd.t_periodic.(t))\n",
    "k1 = [k[1] for k in k12]\n",
    "k2 = [k[2] for k in k12]\n",
    "plot(t, k1, xlabel=\"Time [s]\", label=\"k1\")\n",
    "plot!(t, k2, label=\"k2\")"
   ]
  },
  {
   "cell_type": "code",
   "execution_count": null,
   "id": "afraid-interaction",
   "metadata": {
    "scrolled": false
   },
   "outputs": [],
   "source": [
    "# Now gamoa\n",
    "g, g1, g2 = rad2deg.(bd.γ_OA.(t)), rad2deg.(bd.γ′_OA.(t)), rad2deg.(bd.γ′′_OA.(t))\n",
    "p1 = plot(t, g, label=\"γ_OA\")\n",
    "p2 = plot(t, g1, label=\"γ′_OA\")\n",
    "plot!(p2, t[1:end-1], (g[2:end] - g[1:end-1])./dt, label=\"γ′_OA approx\", line=:dash)\n",
    "p3 = plot(t, g2, label=\"γ′′_OA\")\n",
    "plot!(p3, t[1:end-1], (g1[2:end] - g1[1:end-1])./dt, label=\"γ′′_OA approx\", line=:dash)\n",
    "plot(p1, p2, p3, layout = (3, 1))"
   ]
  },
  {
   "cell_type": "code",
   "execution_count": null,
   "id": "bored-determination",
   "metadata": {},
   "outputs": [],
   "source": [
    "# thek\n",
    "tk, tk1, tk2 = rad2deg.(bd.θ_k.(t)), rad2deg.(bd.θ′_k.(t)), rad2deg.(bd.θ′′_k.(t))\n",
    "p1 = plot(t, tk, label=\"θ_k\")\n",
    "p2 = plot(t, tk1, label=\"θ′_k\")\n",
    "plot!(p2, t[1:end-1], (tk[2:end] - tk[1:end-1])./dt, label=\"θ′_k approx\", line=:dash)\n",
    "p3 = plot(t, tk2, label=\"θ′′_k\")\n",
    "plot!(p3, t[1:end-1], (tk1[2:end] - tk1[1:end-1])./dt, label=\"θ′′_k approx\", line=:dash)\n",
    "plot(p1, p2, p3, layout = (3, 1))"
   ]
  },
  {
   "cell_type": "code",
   "execution_count": null,
   "id": "interesting-counter",
   "metadata": {},
   "outputs": [],
   "source": [
    "# thet\n",
    "tt, tt1, tt2 = rad2deg.(bd.θ_t.(t)), rad2deg.(bd.θ′_t.(t)), rad2deg.(bd.θ′′_t.(t))\n",
    "p1 = plot(t, tt, label=\"θ_t\")\n",
    "p2 = plot(t, tt1, label=\"θ′_t\")\n",
    "plot!(p2, t[1:end-1], (tt[2:end] - tt[1:end-1])./dt, label=\"θ′_t approx\", line=:dash)\n",
    "p3 = plot(t, tt2, label=\"θ′′_t\")\n",
    "plot!(p3, t[1:end-1], (tt1[2:end] - tt1[1:end-1])./dt, label=\"θ′′_k approx\", line=:dash)\n",
    "plot(p1, p2, p3, layout = (3, 1))"
   ]
  },
  {
   "cell_type": "code",
   "execution_count": null,
   "id": "published-daisy",
   "metadata": {},
   "outputs": [],
   "source": []
  }
 ],
 "metadata": {
  "@webio": {
   "lastCommId": null,
   "lastKernelId": null
  },
  "kernelspec": {
   "display_name": "Julia 1.7.2",
   "language": "julia",
   "name": "julia-1.7"
  },
  "language_info": {
   "file_extension": ".jl",
   "mimetype": "application/julia",
   "name": "julia",
   "version": "1.7.2"
  }
 },
 "nbformat": 4,
 "nbformat_minor": 5
}
