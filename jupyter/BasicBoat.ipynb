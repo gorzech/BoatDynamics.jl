{
 "cells": [
  {
   "cell_type": "markdown",
   "id": "0b7d683a",
   "metadata": {},
   "source": [
    "# Boat simulation\n",
    "\n",
    "Current model supports all the features. But an issue is always the way to find solution with bh2o in range."
   ]
  },
  {
   "cell_type": "code",
   "execution_count": null,
   "id": "78d2678e",
   "metadata": {},
   "outputs": [],
   "source": [
    "# using Revise\n",
    "using BoatDynamics\n",
    "\n",
    "using Plots\n",
    "# gr(); # Uncomment if there are some issues with plots\n",
    "plotlyjs(); Plots.default(ticks = :native, label=nothing); # To create a more interactive plots"
   ]
  },
  {
   "cell_type": "code",
   "execution_count": null,
   "id": "e547d076",
   "metadata": {
    "scrolled": false
   },
   "outputs": [],
   "source": [
    "println(\"Boat mass is $(BoatDynamics.m_B), CM location $((BoatDynamics.xo,BoatDynamics.zo))\")"
   ]
  },
  {
   "cell_type": "code",
   "execution_count": null,
   "id": "447c0d01",
   "metadata": {},
   "outputs": [],
   "source": [
    "# Simulation duration\n",
    "t_end = 60.0\n",
    "\n",
    "# timings - active and passive phases\n",
    "T_active = 0.7\n",
    "T_passive = 0.5\n",
    "\n",
    "# Angles ranges in degrees (if not working add dot at end: use '90.0', not '90')\n",
    "γ_minmax = (30.0, 120.0)\n",
    "θ_t_minmax = (22.5, 22.5)\n",
    "# θ_t_minmax = (15.0, 30.0)\n",
    "θ_k_minmax = (90.0, 90.0)\n",
    "# θ_k_minmax = (80.0, 100.0)\n",
    "\n",
    "# water and air velocity\n",
    "x1va = 0.0\n",
    "x1air = 0.0\n",
    "\n",
    "timing = Boat_timing(T_active, T_passive)\n",
    "settings = Boat_settings(γ_minmax, θ_t_minmax, θ_k_minmax, timing, x1va, x1air);"
   ]
  },
  {
   "cell_type": "code",
   "execution_count": null,
   "id": "e54edf14",
   "metadata": {},
   "outputs": [],
   "source": [
    "# try to find initil theta that equalizes gravity with bouty\n",
    "# A primitive method (bisection) that requires minimum and maximum provided\n",
    "θ0 = find_the0(-0.008, -0.001, settings)\n",
    "# OR simply\n",
    "# θ0 = 0.0\n",
    "θ0, rad2deg(θ0)\n",
    "# the = LinRange(-0.01, 0.01, 1001)\n",
    "# eqfun = [BoatDynamics.static_equilibrium(t, settings) for t in the]\n",
    "# plot(the, eqfun)"
   ]
  },
  {
   "cell_type": "code",
   "execution_count": null,
   "id": "e65ce92f",
   "metadata": {},
   "outputs": [],
   "source": [
    "sol = nothing\n",
    "sol = solve_boat(t_end, θ0 = θ0, settings = settings);"
   ]
  },
  {
   "cell_type": "code",
   "execution_count": null,
   "id": "120e259a",
   "metadata": {
    "scrolled": false
   },
   "outputs": [],
   "source": [
    "plot(sol, vars=(0, 1), ylabel=\"Position X [m]\")"
   ]
  },
  {
   "cell_type": "code",
   "execution_count": null,
   "id": "96f23ac4",
   "metadata": {},
   "outputs": [],
   "source": [
    "plot(sol, vars=(0,2), ylabel=\"Position Z [m]\")"
   ]
  },
  {
   "cell_type": "code",
   "execution_count": null,
   "id": "29ed467a",
   "metadata": {},
   "outputs": [],
   "source": [
    "plot(sol, vars=(0,3), ylabel=\"Angle θ [rad]\")"
   ]
  },
  {
   "cell_type": "code",
   "execution_count": null,
   "id": "0ac2a7aa",
   "metadata": {},
   "outputs": [],
   "source": [
    "plot(sol, vars=(0, 4), ylabel=\"U [m/s]\")"
   ]
  },
  {
   "cell_type": "code",
   "execution_count": null,
   "id": "a6de2a64",
   "metadata": {},
   "outputs": [],
   "source": [
    "plot(sol, vars=(0, 5), ylabel=\"W [m/s]\")"
   ]
  },
  {
   "cell_type": "code",
   "execution_count": null,
   "id": "83664d44",
   "metadata": {},
   "outputs": [],
   "source": [
    "plot(sol, vars=(0, 6), ylabel=\"θ′ [rad/s]\")"
   ]
  },
  {
   "cell_type": "code",
   "execution_count": null,
   "id": "26c6aa90",
   "metadata": {},
   "outputs": [],
   "source": [
    "plot(sol, vars=(1, 2), ylabel=\"Z [m]\", xlabel=\"X[m]\")"
   ]
  },
  {
   "cell_type": "code",
   "execution_count": null,
   "id": "smaller-disclosure",
   "metadata": {},
   "outputs": [],
   "source": [
    "bh2o_0 = BoatDynamics.bh2o0(θ0)\n",
    "bh2o = [BoatDynamics.get_bh2o(sol[2, i], sol[3, i], (bh2o_0=bh2o_0,)) for i = 1:length(sol.t)] #z, θ\n",
    "plot(sol.t, bh2o .* 1000, ylabel=\"bh2o [mm]\", xlabel=\"t [s]\")"
   ]
  },
  {
   "cell_type": "code",
   "execution_count": null,
   "id": "3fcdaad7",
   "metadata": {},
   "outputs": [],
   "source": []
  }
 ],
 "metadata": {
  "@webio": {
   "lastCommId": "5ce5453e155748818597fd1e8d125c76",
   "lastKernelId": "be05e508-3ebc-4f05-81e4-14b604eb989f"
  },
  "kernelspec": {
   "display_name": "Julia 1.7.2",
   "language": "julia",
   "name": "julia-1.7"
  },
  "language_info": {
   "file_extension": ".jl",
   "mimetype": "application/julia",
   "name": "julia",
   "version": "1.7.2"
  }
 },
 "nbformat": 4,
 "nbformat_minor": 5
}
